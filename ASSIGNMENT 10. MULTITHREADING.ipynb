{
 "cells": [
  {
   "cell_type": "markdown",
   "id": "f50c854a-4fa6-4f17-90d6-52930e04137b",
   "metadata": {},
   "source": [
    "Q1) What is multithreading in python? Why is it used? Name the module used to handle threads in python"
   ]
  },
  {
   "cell_type": "markdown",
   "id": "8f87dc06-3a8c-44ed-8f24-651688fb427a",
   "metadata": {},
   "source": [
    "Ans:---\n",
    "1)Multithreading in Python refers to the ability to execute multiple threads concurrently within a single program. A thread is a separate flow of execution within a program, allowing multiple tasks to run simultaneously. Python's multithreading enables the execution of multiple threads, allowing for concurrent execution of code segments."
   ]
  },
  {
   "cell_type": "markdown",
   "id": "e69c55f0-12d2-46e5-ac39-2f274beb311c",
   "metadata": {},
   "source": [
    "2)multithreading in Python is used to achieve concurrent execution of tasks, improve performance, ensure responsive user interfaces, utilize system resources efficiently, enable asynchronous programming, and execute multiple tasks simultaneously. It allows for the execution of multiple threads concurrently, enhancing program efficiency and responsiveness. "
   ]
  },
  {
   "cell_type": "markdown",
   "id": "4b31657f-3531-4ed1-99ad-ba01361775f6",
   "metadata": {},
   "source": [
    "3)The threading module is used to handle threads in Python."
   ]
  },
  {
   "cell_type": "markdown",
   "id": "bf363767-3d1a-4c09-b6e3-2bb21cd90cca",
   "metadata": {},
   "source": [
    "Q2) Why threading module used? Write the use of the following functions\n",
    " 1)activeCount().\n",
    " 2)currentThread().\n",
    " 3)enumerate()."
   ]
  },
  {
   "cell_type": "markdown",
   "id": "dadafad5-638e-4f44-8391-683d878f2d07",
   "metadata": {},
   "source": [
    "The threading module in Python is used to handle threads and provides a high-level interface for working with threads. It offers functions and classes for creating, managing, and synchronizing threads within a program."
   ]
  },
  {
   "cell_type": "markdown",
   "id": "819304e8-ac96-4e15-85ed-eb50ceb9e38e",
   "metadata": {},
   "source": [
    "1)The activeCount() function in the threading module is used to retrieve the number of currently active threads in a Python program. It provides a count of all active threads, including the main thread."
   ]
  },
  {
   "cell_type": "code",
   "execution_count": 3,
   "id": "1a4817c1-8418-410b-8a9a-e53bc216640a",
   "metadata": {},
   "outputs": [
    {
     "name": "stdout",
     "output_type": "stream",
     "text": [
      "Thread is executing\n",
      "Thread is executing\n",
      "Number of active threads: 10\n"
     ]
    },
    {
     "name": "stderr",
     "output_type": "stream",
     "text": [
      "/tmp/ipykernel_1585/4069455464.py:14: DeprecationWarning: activeCount() is deprecated, use active_count() instead\n",
      "  print(\"Number of active threads:\", threading.activeCount())\n"
     ]
    }
   ],
   "source": [
    "import threading\n",
    "import time\n",
    "\n",
    "def my_function():\n",
    "    print(\"Thread is executing\")\n",
    "    time.sleep(1)\n",
    "\n",
    "thread1 = threading.Thread(target=my_function)\n",
    "thread2 = threading.Thread(target=my_function)\n",
    "\n",
    "thread1.start()\n",
    "thread2.start()\n",
    "\n",
    "print(\"Number of active threads:\", threading.activeCount())\n",
    "\n",
    "\n"
   ]
  },
  {
   "cell_type": "markdown",
   "id": "a1306f33-a1bc-46ae-b9eb-15c48e646dd3",
   "metadata": {},
   "source": [
    "2)The currentThread() function in the threading module is used to retrieve the currently executing thread object. It provides information about the thread that is currently running the code."
   ]
  },
  {
   "cell_type": "code",
   "execution_count": 6,
   "id": "cc65f4e9-7cab-4e29-afaa-fc0f94c04278",
   "metadata": {},
   "outputs": [
    {
     "name": "stdout",
     "output_type": "stream",
     "text": [
      "Current thread name: Thread-15 (my_function)\n",
      "Current thread name: Thread-16 (my_function)\n"
     ]
    },
    {
     "name": "stderr",
     "output_type": "stream",
     "text": [
      "/tmp/ipykernel_1585/4242168876.py:4: DeprecationWarning: currentThread() is deprecated, use current_thread() instead\n",
      "  print(\"Current thread name:\", threading.currentThread().getName())\n",
      "/tmp/ipykernel_1585/4242168876.py:4: DeprecationWarning: getName() is deprecated, get the name attribute instead\n",
      "  print(\"Current thread name:\", threading.currentThread().getName())\n"
     ]
    }
   ],
   "source": [
    "import threading\n",
    "\n",
    "def my_function():\n",
    "    print(\"Current thread name:\", threading.currentThread().getName())\n",
    "\n",
    "thread1 = threading.Thread(target=my_function)\n",
    "thread2 = threading.Thread(target=my_function)\n",
    "\n",
    "thread1.start()\n",
    "thread2.start()\n",
    "thread1.join()\n",
    "thread2.join()"
   ]
  },
  {
   "cell_type": "markdown",
   "id": "b05a8701-8287-433d-aa1f-df0cba51221b",
   "metadata": {},
   "source": [
    "3)The enumerate() function in the threading module is used to retrieve a list of all currently active Thread objects. It provides a way to iterate over and access information about all active threads in a Python program."
   ]
  },
  {
   "cell_type": "code",
   "execution_count": 8,
   "id": "852ffe84-383f-466e-9b7f-9cb4701cc2f8",
   "metadata": {},
   "outputs": [
    {
     "name": "stdout",
     "output_type": "stream",
     "text": [
      "Thread name: MainThread\n",
      "Thread name: IOPub\n",
      "Thread name: Heartbeat\n",
      "Thread name: Thread-3 (_watch_pipe_fd)\n",
      "Thread name: Thread-4 (_watch_pipe_fd)\n",
      "Thread name: Control\n",
      "Thread name: IPythonHistorySavingThread\n",
      "Thread name: Thread-2\n",
      "Thread name: Thread-19 (my_function)\n",
      "Thread name: Thread-20 (my_function)\n"
     ]
    },
    {
     "name": "stderr",
     "output_type": "stream",
     "text": [
      "/tmp/ipykernel_1585/54740040.py:16: DeprecationWarning: getName() is deprecated, get the name attribute instead\n",
      "  print(\"Thread name:\", thread.getName())\n"
     ]
    }
   ],
   "source": [
    "import threading\n",
    "import time\n",
    "\n",
    "def my_function():\n",
    "    time.sleep(3)\n",
    "\n",
    "thread1 = threading.Thread(target=my_function)\n",
    "thread2 = threading.Thread(target=my_function)\n",
    "\n",
    "thread1.start()\n",
    "thread2.start()\n",
    "\n",
    "threads = threading.enumerate()\n",
    "\n",
    "for thread in threads:\n",
    "    print(\"Thread name:\", thread.getName())\n"
   ]
  },
  {
   "cell_type": "markdown",
   "id": "9d744797-8b8d-4076-8bb9-eae66bc9381a",
   "metadata": {},
   "source": [
    "Q3) Explain the following functions?\n",
    "1)run().\n",
    "2)start().\n",
    "3)join().\n",
    "4)isAlive()."
   ]
  },
  {
   "cell_type": "markdown",
   "id": "159391b3-3f7b-417d-b893-2b1b93b38624",
   "metadata": {},
   "source": [
    "Ans:---\n",
    "1)run(): The run() method is the entry point for the thread's execution. It defines the behavior of the thread when it is started. You can override this method in a subclass to specify the specific actions or operations that the thread should perform."
   ]
  },
  {
   "cell_type": "code",
   "execution_count": 13,
   "id": "a07339aa-2e5e-4c04-9470-9f468ee3d552",
   "metadata": {},
   "outputs": [
    {
     "name": "stdout",
     "output_type": "stream",
     "text": [
      "Thread is running\n"
     ]
    }
   ],
   "source": [
    "import threading\n",
    "\n",
    "class MyThread(threading.Thread):\n",
    "    def run(self):\n",
    "        print(\"Thread is running\")\n",
    "\n",
    "thread = MyThread()\n",
    "thread.run()\n"
   ]
  },
  {
   "cell_type": "markdown",
   "id": "82669310-5294-4177-a8ce-6882639b95dd",
   "metadata": {},
   "source": [
    "2)start(): The start() method is used to start the execution of a thread. It creates a new thread of execution and invokes the run() method in that new thread. This method allows for concurrent execution of multiple threads.\n"
   ]
  },
  {
   "cell_type": "code",
   "execution_count": 14,
   "id": "035f0078-0c47-44d9-95b7-27576bb34854",
   "metadata": {},
   "outputs": [
    {
     "name": "stdout",
     "output_type": "stream",
     "text": [
      "Thread is running by invoking run() method\n"
     ]
    }
   ],
   "source": [
    "import threading\n",
    "\n",
    "def my_function():\n",
    "    print(\"Thread is running by invoking run() method\")\n",
    "\n",
    "thread = threading.Thread(target=my_function)\n",
    "thread.start()\n"
   ]
  },
  {
   "cell_type": "markdown",
   "id": "06413beb-1e08-4761-b1ef-7367fd8605db",
   "metadata": {},
   "source": [
    "3)join(): The join() method is used to wait for the completion of a thread. When join() is called on a thread, the calling thread (usually the main thread) will pause its execution and wait for the specified thread to finish its execution before resuming.\n"
   ]
  },
  {
   "cell_type": "code",
   "execution_count": 15,
   "id": "1577701a-2e18-411d-a3b2-7ae32cb545f1",
   "metadata": {},
   "outputs": [
    {
     "name": "stdout",
     "output_type": "stream",
     "text": [
      "Thread has finished execution\n",
      "Main thread continues execution\n"
     ]
    }
   ],
   "source": [
    "import threading\n",
    "import time\n",
    "\n",
    "def my_function():\n",
    "    time.sleep(2)\n",
    "    print(\"Thread has finished execution\")\n",
    "\n",
    "thread = threading.Thread(target=my_function)\n",
    "thread.start()\n",
    "thread.join()\n",
    "print(\"Main thread continues execution\")\n"
   ]
  },
  {
   "cell_type": "markdown",
   "id": "ec956bdb-c944-4bb4-8f01-6768081034e4",
   "metadata": {},
   "source": [
    "4)isalive(): The isalive() method is used to check whether a thread is currently alive or running. It returns True if the thread is active and has not finished its execution, and False otherwise."
   ]
  },
  {
   "cell_type": "code",
   "execution_count": 21,
   "id": "333ce5b3-c52e-48bc-9776-8bcb327b98e2",
   "metadata": {},
   "outputs": [
    {
     "name": "stdout",
     "output_type": "stream",
     "text": [
      "Thread is starting...\n",
      "Is the thread alive? True\n",
      "Thread is finishing...\n",
      "Is the thread alive? False\n"
     ]
    }
   ],
   "source": [
    "import threading\n",
    "import time\n",
    "\n",
    "def my_function():\n",
    "    print(\"Thread is starting...\")\n",
    "    time.sleep(2)\n",
    "    print(\"Thread is finishing...\")\n",
    "\n",
    "thread = threading.Thread(target=my_function)\n",
    "thread.start()\n",
    "\n",
    "print(\"Is the thread alive?\", thread.is_alive())\n",
    "thread.join()\n",
    "\n",
    "print(\"Is the thread alive?\", thread.is_alive())\n"
   ]
  },
  {
   "cell_type": "markdown",
   "id": "b8c58e71-8b93-4399-a5cb-df3a355d1cc5",
   "metadata": {},
   "source": [
    "Q4) Write a python program to create two threads. Thread one must print the list of squares and thread\n",
    "two must print the list of cubes"
   ]
  },
  {
   "cell_type": "code",
   "execution_count": 1,
   "id": "5f04f1b9-f22f-45fa-a94a-a751e9d13774",
   "metadata": {},
   "outputs": [
    {
     "name": "stdout",
     "output_type": "stream",
     "text": [
      "square of 0:0\n",
      "square of 1:1\n",
      "square of 2:4\n",
      "square of 3:9\n",
      "square of 4:16\n",
      "square of 5:25\n",
      "square of 6:36\n",
      "square of 7:49\n",
      "square of 8:64\n",
      "square of 9:81\n",
      "cube of 0:0\n",
      "cube of 1:1\n",
      "cube of 2:4\n",
      "cube of 3:9\n",
      "cube of 4:16\n",
      "cube of 5:25\n",
      "cube of 6:36\n",
      "cube of 7:49\n",
      "cube of 8:64\n",
      "cube of 9:81\n"
     ]
    }
   ],
   "source": [
    "import threading \n",
    "def squares():\n",
    "    for i in range(10):\n",
    "        print(f\"square of {i}:{i**2}\")\n",
    "        \n",
    "def cubes():\n",
    "    for i in range(10):\n",
    "        print(f\"cube of {i}:{i**2}\")\n",
    "        \n",
    "thread1=threading.Thread(target=squares)\n",
    "thread2=threading.Thread(target=cubes)\n",
    "thread1.start()\n",
    "thread2.start()\n",
    "thread1.join()\n",
    "thread2.join()"
   ]
  },
  {
   "cell_type": "markdown",
   "id": "70c2ea44-bbde-4586-8dab-c1180b8736fd",
   "metadata": {},
   "source": [
    "Q5) State advantages and disadvantages of multithreading."
   ]
  },
  {
   "cell_type": "markdown",
   "id": "e8287333-862f-4a64-91b9-9387d3a7c9ea",
   "metadata": {},
   "source": [
    "Ans:---\n",
    "\n",
    "Advantages of Multithreading:\n",
    "\n",
    "1)Improved performance: Multithreading can enhance the overall performance of a program by utilizing multiple threads to execute tasks concurrently. It allows for better utilization of system resources, such as CPU cores, and can lead to faster execution of complex operations.\n",
    "\n",
    "2)Responsiveness: Multithreading enables a program to remain responsive while performing time-consuming tasks. By delegating such tasks to separate threads, the main thread can continue to handle user interactions and keep the application responsive.\n",
    "\n",
    "3)Resource sharing: Threads within a process can share the same memory space, which allows for efficient sharing of data between threads. This avoids the need for expensive inter-process communication mechanisms, making it easier to exchange information and synchronize access to shared resources.\n",
    "\n",
    "4)Simplified program structure: Multithreading can simplify the design and structure of certain types of programs. For example, in graphical user interfaces (GUIs), a separate thread can be used for handling user input and keeping the interface responsive while another thread performs complex calculations or data processing.\n",
    "\n",
    "Disadvantages of Multithreading:\n",
    "\n",
    "1)Complexity: Multithreaded programs can be more complex to design, implement, and debug compared to single-threaded programs. Issues such as thread synchronization, race conditions, and deadlocks can arise, making the code more challenging to manage and maintain.\n",
    "\n",
    "2)Synchronization overhead: When multiple threads access shared resources concurrently, synchronization mechanisms like locks, semaphores, or mutexes are often required to ensure thread safety. The use of these mechanisms can introduce additional overhead and potentially impact performance.\n",
    "\n",
    "3)Debugging difficulties: Debugging multithreaded programs can be more difficult due to the inherent non-determinism introduced by concurrent execution. Issues like race conditions or deadlocks may only occur intermittently, making them harder to reproduce and diagnose.\n",
    "\n",
    "4)Increased resource consumption: Each thread in a program requires system resources, such as memory and CPU time. Creating and managing multiple threads can increase resource consumption, and excessive thread creation may lead to resource exhaustion or degradation in overall system performance.\n"
   ]
  },
  {
   "cell_type": "markdown",
   "id": "63a8c337-f17d-4073-89f2-0d9ef3746508",
   "metadata": {},
   "source": [
    "Q6) Explain deadlocks and race conditions."
   ]
  },
  {
   "cell_type": "markdown",
   "id": "1b33abc5-9a4b-44a4-a102-9d3235eed051",
   "metadata": {},
   "source": [
    "Ans:---\n",
    "1#)Deadlock:\n",
    "\n",
    "Deadlock is a situation that occurs in concurrent programming when two or more threads are blocked indefinitely, waiting for each other to release resources that they hold. In other words, it's a scenario where two or more threads are stuck, unable to proceed, because each thread is waiting for a resource that is held by another thread in the deadlock. Deadlocks typically occur due to a circular dependency of resources.\n",
    "\n",
    "For a deadlock to happen, four conditions must hold simultaneously, known as the \"Four Coffman Conditions\":\n",
    "\n",
    "1)Mutual Exclusion: At least one resource must be held in a non-shareable mode, meaning that only one thread can use it at a time.\n",
    "2)Hold and Wait: A thread holding at least one resource is waiting to acquire additional resources held by other threads.\n",
    "3)No Preemption: Resources cannot be forcibly taken away from threads; they can only be released voluntarily.\n",
    "4)Circular Wait: There is a circular chain of two or more threads, where each thread is waiting for a resource that is held by another thread in the chain.\n"
   ]
  },
  {
   "cell_type": "markdown",
   "id": "908e98bf-fd0b-44de-9254-07b546589d13",
   "metadata": {},
   "source": [
    "2#)Race Condition:\n",
    "\n",
    "1)A race condition is a situation that occurs in concurrent programming when multiple threads access shared resources or variables simultaneously, resulting in an outcome that depends on the specific order or timing of thread execution. Race conditions arise when the final outcome of the program is affected by the relative timing or interleaving of thread operations, which can lead to incorrect or unpredictable results.\n",
    "\n",
    "2)Race conditions typically occur when multiple threads perform read-modify-write operations on shared resources without proper synchronization. If the threads are not properly coordinated, they can interfere with each other's operations and produce inconsistent or unexpected results.\n",
    "\n",
    "3)To prevent race conditions, synchronization mechanisms like locks, semaphores, or atomic operations should be used to ensure that only one thread can access a shared resource at a time or that shared data is accessed atomically. By enforcing proper synchronization, race conditions can be mitigated, and the desired correctness and consistency of the program can be maintained."
   ]
  },
  {
   "cell_type": "code",
   "execution_count": null,
   "id": "23dd2aa6-4aaf-4ac4-bdbe-79c307df4513",
   "metadata": {},
   "outputs": [],
   "source": []
  },
  {
   "cell_type": "code",
   "execution_count": null,
   "id": "5461862e-01bf-48af-a059-fcf2a9a2b3d4",
   "metadata": {},
   "outputs": [],
   "source": []
  }
 ],
 "metadata": {
  "kernelspec": {
   "display_name": "Python 3 (ipykernel)",
   "language": "python",
   "name": "python3"
  },
  "language_info": {
   "codemirror_mode": {
    "name": "ipython",
    "version": 3
   },
   "file_extension": ".py",
   "mimetype": "text/x-python",
   "name": "python",
   "nbconvert_exporter": "python",
   "pygments_lexer": "ipython3",
   "version": "3.10.8"
  }
 },
 "nbformat": 4,
 "nbformat_minor": 5
}
